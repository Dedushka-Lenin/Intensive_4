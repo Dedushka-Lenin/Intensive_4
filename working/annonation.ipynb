{
 "cells": [
  {
   "cell_type": "markdown",
   "id": "b45818b4",
   "metadata": {},
   "source": [
    "Нравится скорость отработки заявок ----- 1\n",
    "\n",
    "Нравится качество выполнения заявки ---- 2\n",
    "\n",
    "Нравится качество работы сотрудников --- 3\n",
    "\n",
    "Понравилось выполнение заявки ---------- 4\n",
    "\n",
    "Вопрос решен --------------------------- 5"
   ]
  },
  {
   "cell_type": "code",
   "execution_count": null,
   "id": "8d407e42",
   "metadata": {},
   "outputs": [
    {
     "name": "stdout",
     "output_type": "stream",
     "text": [
      "спасибо\n",
      "\n",
      "__________________________________\n",
      "отлично\n",
      "4\n",
      "__________________________________\n",
      "благодарю за оперативное решение проблемы\n",
      "1\n",
      "__________________________________\n",
      "прекрасный специалист побольше таких\n",
      "3\n",
      "__________________________________\n",
      "пересчет и скорость\n"
     ]
    }
   ],
   "source": [
    "import pandas as pd\n",
    "\n",
    "data_n = pd.read_csv('date/preparation_step_1.csv')\n",
    "data_f = pd.read_csv('date/preparation_step_2.csv')\n",
    "\n",
    "def assignment(id, c, t):\n",
    "    data_f.loc[data_f['id'] == id, c] = t\n",
    "\n",
    "def annonation(x, id):\n",
    "    print(x)\n",
    "\n",
    "    match x:\n",
    "        case '1':\n",
    "            assignment(id, 'Нравится скорость отработки заявок', 1)\n",
    "        case '2':\n",
    "            assignment(id, 'Нравится качество выполнения заявки', 1)\n",
    "        case '3':\n",
    "            assignment(id, 'Нравится качество работы сотрудников', 1)\n",
    "        case '4':\n",
    "            assignment(id, 'Понравилось выполнение заявки', 1)\n",
    "        case '5':\n",
    "            assignment(id, 'Вопрос решен', 1)\n",
    "\n",
    "for elm in data_f.id:\n",
    "\n",
    "    print(data_n.loc[data_n['id'] == elm, 'comment'].values[0])\n",
    "\n",
    "    annonation(input('Введи тип'), elm)\n",
    "    print('__________________________________')\n",
    "\n",
    "data_f.to_csv('date/preparation_step_3.csv', index=False)"
   ]
  }
 ],
 "metadata": {
  "kernelspec": {
   "display_name": ".venv",
   "language": "python",
   "name": "python3"
  },
  "language_info": {
   "codemirror_mode": {
    "name": "ipython",
    "version": 3
   },
   "file_extension": ".py",
   "mimetype": "text/x-python",
   "name": "python",
   "nbconvert_exporter": "python",
   "pygments_lexer": "ipython3",
   "version": "3.11.9"
  }
 },
 "nbformat": 4,
 "nbformat_minor": 5
}
