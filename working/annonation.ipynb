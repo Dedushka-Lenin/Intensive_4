{
 "cells": [
  {
   "cell_type": "code",
   "execution_count": 2,
   "id": "c29f8322",
   "metadata": {},
   "outputs": [],
   "source": [
    "import pandas as pd\n"
   ]
  },
  {
   "cell_type": "code",
   "execution_count": null,
   "id": "8d407e42",
   "metadata": {},
   "outputs": [
    {
     "name": "stdout",
     "output_type": "stream",
     "text": [
      "спасибо\n",
      "__________________________________\n",
      "отлично\n",
      "__________________________________\n",
      "благодарить за оперативный решение проблема\n",
      "__________________________________\n",
      "прекрасный специалист большой такой\n"
     ]
    }
   ],
   "source": [
    "\n",
    "data = pd.read_csv('date/preparation_step_2.csv')\n",
    "\n",
    "def annonation(x):\n",
    "\n",
    "    print(x)\n",
    "\n",
    "    match x:\n",
    "        case '1':\n",
    "            pass\n",
    "        case '2':\n",
    "            pass\n",
    "        case '3':\n",
    "            pass\n",
    "        case '4':\n",
    "            pass\n",
    "        case '5':\n",
    "            pass\n",
    "        case _:\n",
    "            pass\n",
    "\n",
    "for i in range(data.shape[0]):\n",
    "\n",
    "    print(data.T[i]['comment'])\n",
    "    annonation(input('Введи тип'))\n",
    "    print('__________________________________')\n",
    "\n",
    "\n",
    "# Нравится скорость отработки заявок ----- 1\n",
    "# Нравится качество выполнения заявки ---- 2\n",
    "# Нравится качество работы сотрудников --- 3\n",
    "# Понравилось выполнение заявки ---------- 4\n",
    "# Вопрос решен --------------------------- 5"
   ]
  }
 ],
 "metadata": {
  "kernelspec": {
   "display_name": ".venv",
   "language": "python",
   "name": "python3"
  },
  "language_info": {
   "codemirror_mode": {
    "name": "ipython",
    "version": 3
   },
   "file_extension": ".py",
   "mimetype": "text/x-python",
   "name": "python",
   "nbconvert_exporter": "python",
   "pygments_lexer": "ipython3",
   "version": "3.11.9"
  }
 },
 "nbformat": 4,
 "nbformat_minor": 5
}
