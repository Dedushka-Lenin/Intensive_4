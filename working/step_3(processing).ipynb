{
 "cells": [
  {
   "cell_type": "code",
   "execution_count": 8,
   "metadata": {},
   "outputs": [],
   "source": [
    "import re\n",
    "# import emoji\n",
    "import string\n",
    "import pymorphy3\n",
    "\n",
    "import pandas as pd"
   ]
  },
  {
   "cell_type": "markdown",
   "metadata": {},
   "source": [
    "______________________________________________________________________________________________________________________________________________________________________________________\n",
    "\n",
    "Подгатовка данных"
   ]
  },
  {
   "cell_type": "code",
   "execution_count": 9,
   "metadata": {},
   "outputs": [],
   "source": [
    "data = pd.read_csv('date/annotated_data.csv')\n",
    "\n",
    "data.drop(columns=['categories'], inplace=True)\n",
    "\n",
    "morph = pymorphy3.MorphAnalyzer()\n",
    "stop_words = set(['и', 'в', 'на', 'с', 'чем', 'как', 'что', 'г'])                                                            # Список стоп слов\n",
    "\n",
    "def clean_text(text):\n",
    "\n",
    "    punctuation = string.punctuation\n",
    "\n",
    "    cleaned_text = text.translate(str.maketrans('', '', punctuation))\n",
    "    cleaned_text = re.sub(r\"[A-Za-z0-9]\", '', cleaned_text)\n",
    "\n",
    "    # Удаляем лишние пробелы\n",
    "    cleaned_text = re.sub(r'\\s+', ' ', cleaned_text).strip()\n",
    "\n",
    "    cleaned_text = cleaned_text.lower()                                 # Приводит текст к нижнему регистру\n",
    "    cleaned_text= cleaned_text.strip()                                  # Удаляет начальные и конечные пробелы\n",
    "\n",
    "    tokens = cleaned_text.split()                                                                                               # Токинезация\n",
    "\n",
    "    Lemmatization = [morph.parse(token)[0].normal_form for token in tokens]                                             # Лемматизация\n",
    "\n",
    "    filtered_words = [Lemmatization for Lemmatization in Lemmatization if Lemmatization.lower() not in stop_words]      # Удаление стоп-слов\n",
    "\n",
    "    result = ' '.join(filtered_words)                                                                                   # Удаление лишних пробелов\n",
    "\n",
    "    return result\n",
    "\n",
    "data['comment'] = data['comment'].apply(clean_text)\n",
    "\n",
    "data = data[~data.duplicated('comment')]\n",
    "\n",
    "data = data.dropna(subset=['comment']).loc[data['comment'] != '']\n",
    "\n",
    "data.to_csv('date/processed_data.csv', index=False)"
   ]
  }
 ],
 "metadata": {
  "kernelspec": {
   "display_name": ".venv",
   "language": "python",
   "name": "python3"
  },
  "language_info": {
   "codemirror_mode": {
    "name": "ipython",
    "version": 3
   },
   "file_extension": ".py",
   "mimetype": "text/x-python",
   "name": "python",
   "nbconvert_exporter": "python",
   "pygments_lexer": "ipython3",
   "version": "3.11.9"
  }
 },
 "nbformat": 4,
 "nbformat_minor": 2
}
