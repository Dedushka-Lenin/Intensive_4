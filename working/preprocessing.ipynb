{
 "cells": [
  {
   "cell_type": "code",
   "execution_count": 26,
   "metadata": {},
   "outputs": [],
   "source": [
    "import re\n",
    "import emoji\n",
    "import string\n",
    "\n",
    "import pandas as pd"
   ]
  },
  {
   "cell_type": "markdown",
   "metadata": {},
   "source": [
    "______________________________________________________________________________________________________________________________________________________________________________________\n",
    "\n",
    "Подгатовка данных"
   ]
  },
  {
   "cell_type": "code",
   "execution_count": 30,
   "metadata": {},
   "outputs": [],
   "source": [
    "data = pd.read_csv('date/date.csv')\n",
    "\n",
    "stop_words = set(['и', 'в', 'на', 'с', 'чем', 'как', 'что']) \n",
    "\n",
    "def clean_text(text):\n",
    "    # emoji.demojize(text)\n",
    "\n",
    "    punctuation = string.punctuation\n",
    "    # Удаляем все знаки препинания из текста\n",
    "    cleaned_text = text.translate(str.maketrans('', '', punctuation))\n",
    "    cleaned_text = re.sub(r\"[A-Za-z0-9]\", '', cleaned_text)\n",
    "\n",
    "    # Удаляем лишние пробелы\n",
    "    cleaned_text = re.sub(r'\\s+', ' ', cleaned_text).strip()\n",
    "\n",
    "\n",
    "    cleaned_text = cleaned_text.lower()                                 # Приводит текст к нижнему регистру\n",
    "    cleaned_text= cleaned_text.strip()                                  # Удаляет начальные и конечные пробелы\n",
    "    return cleaned_text\n",
    "\n",
    "data['comment'] = data['comment'].apply(clean_text)\n",
    "\n",
    "data = data[~data.duplicated('comment')]                                # Удаляете дубликатов\n",
    "\n",
    "data = data.dropna(subset=['comment']).loc[data['comment'] != '']       # Удаляете строки с пропущенными или пустыми комментариями\n",
    "\n",
    "data['Нравится скорость отработки заявок'] = 0\n",
    "data['Нравится качество выполнения заявки'] = 0\n",
    "data['Нравится качество работы сотрудников'] = 0\n",
    "data['Понравилось выполнение заявки'] = 0\n",
    "data['Вопрос решен'] = 0\n",
    "data['Другое'] = 0\n",
    "\n",
    "data.to_csv('date/preparation_step_1.csv', index=False)"
   ]
  }
 ],
 "metadata": {
  "kernelspec": {
   "display_name": ".venv",
   "language": "python",
   "name": "python3"
  },
  "language_info": {
   "codemirror_mode": {
    "name": "ipython",
    "version": 3
   },
   "file_extension": ".py",
   "mimetype": "text/x-python",
   "name": "python",
   "nbconvert_exporter": "python",
   "pygments_lexer": "ipython3",
   "version": "3.11.9"
  }
 },
 "nbformat": 4,
 "nbformat_minor": 2
}
