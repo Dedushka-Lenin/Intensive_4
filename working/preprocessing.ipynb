{
 "cells": [
  {
   "cell_type": "code",
   "execution_count": 13,
   "metadata": {},
   "outputs": [],
   "source": [
    "import re\n",
    "import pymorphy3\n",
    "\n",
    "import pandas as pd"
   ]
  },
  {
   "cell_type": "markdown",
   "metadata": {},
   "source": [
    "______________________________________________________________________________________________________________________________________________________________________________________\n",
    "\n",
    "Подгатовка данных"
   ]
  },
  {
   "cell_type": "code",
   "execution_count": 14,
   "metadata": {},
   "outputs": [
    {
     "name": "stdout",
     "output_type": "stream",
     "text": [
      "           id  rating                                            comment  \\\n",
      "0     2945792       5                                            спасибо   \n",
      "2     3380332       5                                            отлично   \n",
      "3     3381812       5          благодарю за оперативное решение проблемы   \n",
      "4     3461991       5               прекрасный специалист побольше таких   \n",
      "6     3572768       1                                пересчет и скорость   \n",
      "...       ...     ...                                                ...   \n",
      "2368  3507812       5                                   долго но приятно   \n",
      "2369  3478532       5  г ребята установили кондиционер работа сделана...   \n",
      "2370  3296403       5           два дня мусоропровод сегодня с утра тоже   \n",
      "2371  3165822       5  отрегулировать дверь замки для должного открыв...   \n",
      "2372  2991660       5                                 всё сделано хорошо   \n",
      "\n",
      "      Нравится скорость отработки заявок  Нравится качество выполнения заявки  \\\n",
      "0                                    NaN                                  NaN   \n",
      "2                                    NaN                                  NaN   \n",
      "3                                    NaN                                  NaN   \n",
      "4                                    NaN                                  NaN   \n",
      "6                                    NaN                                  NaN   \n",
      "...                                  ...                                  ...   \n",
      "2368                                 NaN                                  NaN   \n",
      "2369                                 NaN                                  NaN   \n",
      "2370                                 NaN                                  NaN   \n",
      "2371                                 NaN                                  NaN   \n",
      "2372                                 NaN                                  NaN   \n",
      "\n",
      "      Нравится качество работы сотрудников  Понравилось выполнение заявки  \\\n",
      "0                                      NaN                            NaN   \n",
      "2                                      NaN                            NaN   \n",
      "3                                      NaN                            NaN   \n",
      "4                                      NaN                            NaN   \n",
      "6                                      NaN                            NaN   \n",
      "...                                    ...                            ...   \n",
      "2368                                   NaN                            NaN   \n",
      "2369                                   NaN                            NaN   \n",
      "2370                                   NaN                            NaN   \n",
      "2371                                   NaN                            NaN   \n",
      "2372                                   NaN                            NaN   \n",
      "\n",
      "      Вопрос решен  \n",
      "0              NaN  \n",
      "2              NaN  \n",
      "3              NaN  \n",
      "4              NaN  \n",
      "6              NaN  \n",
      "...            ...  \n",
      "2368           NaN  \n",
      "2369           NaN  \n",
      "2370           NaN  \n",
      "2371           NaN  \n",
      "2372           NaN  \n",
      "\n",
      "[1523 rows x 8 columns]\n"
     ]
    }
   ],
   "source": [
    "data = pd.read_csv('date/date.csv')\n",
    "\n",
    "def clean_text(text):\n",
    "    cleaned_text = re.sub(r'[^а-яА-ЯёЁ\\s]', ' ', text)\n",
    "    cleaned_text = re.sub(r'\\s+', ' ', cleaned_text)\n",
    "    cleaned_text = cleaned_text.lower()\n",
    "    return cleaned_text.strip()\n",
    "\n",
    "data['comment'] = data['comment'].apply(clean_text)\n",
    "\n",
    "data = data[~data.duplicated('comment')]\n",
    "\n",
    "data = data.dropna(subset=['comment']).loc[data['comment'] != '']\n",
    "\n",
    "print(data)\n",
    "\n",
    "data.to_csv('date/preparation_step_1.csv', index=False)"
   ]
  },
  {
   "cell_type": "markdown",
   "metadata": {},
   "source": [
    "______________________________________________________________________________________________________________________________________________________________________________________\n",
    "\n",
    "Лемматизация"
   ]
  },
  {
   "cell_type": "code",
   "execution_count": 15,
   "metadata": {},
   "outputs": [],
   "source": [
    "data = pd.read_csv('date/preparation_step_1.csv')\n",
    "\n",
    "morph = pymorphy3.MorphAnalyzer()\n",
    "stop_words = set(['и', 'в', 'на', 'с', 'чем', 'как', 'что'])\n",
    "\n",
    "def clean_text(text):\n",
    "\n",
    "    tokens = text.split()\n",
    "\n",
    "    Lemmatization = [morph.parse(token)[0].normal_form for token in tokens]\n",
    "\n",
    "    filtered_words = [Lemmatization for Lemmatization in Lemmatization if Lemmatization.lower() not in stop_words]\n",
    "\n",
    "    result = ' '.join(filtered_words)\n",
    "\n",
    "    return result\n",
    "\n",
    "data['comment'] = data['comment'].apply(clean_text)\n",
    "\n",
    "data.to_csv('date/preparation_step_2.csv', index=False)"
   ]
  }
 ],
 "metadata": {
  "kernelspec": {
   "display_name": ".venv",
   "language": "python",
   "name": "python3"
  },
  "language_info": {
   "codemirror_mode": {
    "name": "ipython",
    "version": 3
   },
   "file_extension": ".py",
   "mimetype": "text/x-python",
   "name": "python",
   "nbconvert_exporter": "python",
   "pygments_lexer": "ipython3",
   "version": "3.11.9"
  }
 },
 "nbformat": 4,
 "nbformat_minor": 2
}
