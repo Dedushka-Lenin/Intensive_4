{
 "cells": [
  {
   "cell_type": "code",
   "execution_count": null,
   "id": "f52b2fe6",
   "metadata": {},
   "outputs": [],
   "source": [
    "import pymorphy3\n",
    "\n",
    "import pandas as pd\n",
    "\n",
    "\n",
    "data = pd.read_csv('date/preparation_step_1.csv')\n",
    "\n",
    "morph = pymorphy3.MorphAnalyzer()\n",
    "stop_words = set(['и', 'в', 'на', 'с', 'чем', 'как', 'что'])                                                            # Список стоп слов\n",
    "\n",
    "def clean_text(text):\n",
    "\n",
    "    tokens = text.split()                                                                                               # Токинезация\n",
    "\n",
    "    Lemmatization = [morph.parse(token)[0].normal_form for token in tokens]                                             # Лемматизация\n",
    "\n",
    "    filtered_words = [Lemmatization for Lemmatization in Lemmatization if Lemmatization.lower() not in stop_words]      # Удаление стоп-слов\n",
    "\n",
    "    result = ' '.join(filtered_words)                                                                                   # Удаление лишних пробелов\n",
    "\n",
    "    return result\n",
    "\n",
    "data['comment'] = data['comment'].apply(clean_text)\n",
    "\n",
    "data.to_csv('date/preparation_step_2.csv', index=False)"
   ]
  }
 ],
 "metadata": {
  "language_info": {
   "name": "python"
  }
 },
 "nbformat": 4,
 "nbformat_minor": 5
}
