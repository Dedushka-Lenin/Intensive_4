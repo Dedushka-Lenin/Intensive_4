{
 "cells": [
  {
   "cell_type": "markdown",
   "id": "14a66cba",
   "metadata": {},
   "source": [
    "______________________________________________________________________________________________________________________________________________________________________________________\n",
    "\n",
    "Обучение модели"
   ]
  },
  {
   "cell_type": "code",
   "execution_count": 62,
   "id": "c19b8cf9",
   "metadata": {},
   "outputs": [
    {
     "name": "stdout",
     "output_type": "stream",
     "text": [
      "['и', 'в', 'во', 'не', 'что', 'он', 'на', 'я', 'с', 'со', 'как', 'а', 'то', 'все', 'она', 'так', 'его', 'но', 'да', 'ты', 'к', 'у', 'же', 'вы', 'за', 'бы', 'по', 'только', 'ее', 'мне', 'было', 'вот', 'от', 'меня', 'еще', 'нет', 'о', 'из', 'ему', 'теперь', 'когда', 'даже', 'ну', 'вдруг', 'ли', 'если', 'уже', 'или', 'ни', 'быть', 'был', 'него', 'до', 'вас', 'нибудь', 'опять', 'уж', 'вам', 'ведь', 'там', 'потом', 'себя', 'ничего', 'ей', 'может', 'они', 'тут', 'где', 'есть', 'надо', 'ней', 'для', 'мы', 'тебя', 'их', 'чем', 'была', 'сам', 'чтоб', 'без', 'будто', 'чего', 'раз', 'тоже', 'себе', 'под', 'будет', 'ж', 'тогда', 'кто', 'этот', 'того', 'потому', 'этого', 'какой', 'совсем', 'ним', 'здесь', 'этом', 'один', 'почти', 'мой', 'тем', 'чтобы', 'нее', 'сейчас', 'были', 'куда', 'зачем', 'всех', 'никогда', 'можно', 'при', 'наконец', 'два', 'об', 'другой', 'хоть', 'после', 'над', 'больше', 'тот', 'через', 'эти', 'нас', 'про', 'всего', 'них', 'какая', 'много', 'разве', 'три', 'эту', 'моя', 'впрочем', 'хорошо', 'свою', 'этой', 'перед', 'иногда', 'лучше', 'чуть', 'том', 'нельзя', 'такой', 'им', 'более', 'всегда', 'конечно', 'всю', 'между', 'г']\n",
      "<class 'list'>\n",
      "ROC-AUC по категориям:\n",
      "Вопрос решен: 0.769\n",
      "Нравится качество выполнения заявки: 0.886\n",
      "Нравится качество работы сотрудников: 0.948\n",
      "Нравится скорость отработки заявок: 0.964\n",
      "Понравилось выполнение заявки: 0.801\n",
      "Другое: 0.973\n",
      "\n",
      "Средний ROC-AUC: 0.890\n",
      "0\n",
      "-------------------------------------------------\n",
      "[np.float64(0.8904443829141325), 0]\n"
     ]
    }
   ],
   "source": [
    "import pandas as pd\n",
    "from sklearn.model_selection import train_test_split\n",
    "from sklearn.feature_extraction.text import TfidfVectorizer\n",
    "from sklearn.linear_model import LogisticRegression\n",
    "from sklearn.multioutput import MultiOutputClassifier\n",
    "from sklearn.metrics import roc_auc_score\n",
    "\n",
    "# Загрузка данных\n",
    "df = pd.read_csv('processed_data.csv')\n",
    "\n",
    "from nltk.corpus import stopwords\n",
    "\n",
    "stop_words = list(stopwords.words('russian'))\n",
    "stop_words.append('г')\n",
    "\n",
    "print(stop_words)\n",
    "print(type(stop_words))\n",
    "\n",
    "# Векторизация текста\n",
    "vectorizer = TfidfVectorizer(max_features=5000, stop_words=stop_words)\n",
    "X = vectorizer.fit_transform(df['comment'])\n",
    "\n",
    "# Целевые метки\n",
    "Y = df[['Вопрос решен', 'Нравится качество выполнения заявки', \n",
    "        'Нравится качество работы сотрудников', \n",
    "        'Нравится скорость отработки заявок', \n",
    "        'Понравилось выполнение заявки', 'Другое']]\n",
    "\n",
    "x = [0,0]\n",
    "\n",
    "for elm in range(1):\n",
    "\n",
    "    # Разделение данных\n",
    "    X_train, X_test, y_train, y_test = train_test_split(X, Y, test_size=0.3, random_state=26)\n",
    "\n",
    "    # Обучение модели многометочной логистической регрессии\n",
    "    model = MultiOutputClassifier(LogisticRegression(max_iter=10000))\n",
    "    model.fit(X_train, y_train)\n",
    "\n",
    "    # Предсказания вероятностей для тестовой выборки\n",
    "    y_pred_proba = model.predict_proba(X_test)\n",
    "\n",
    "    roc_auc_scores = {}\n",
    "\n",
    "    for idx, column in enumerate(Y.columns):\n",
    "        roc_auc = roc_auc_score(y_test[column], y_pred_proba[idx][:,1])\n",
    "        roc_auc_scores[column] = roc_auc\n",
    "\n",
    "\n",
    "    average_roc_auc = sum(roc_auc_scores.values()) / len(roc_auc_scores)\n",
    "\n",
    "    print(\"ROC-AUC по категориям:\")\n",
    "    for category, score in roc_auc_scores.items():\n",
    "        print(f\"{category}: {score:.3f}\")\n",
    "\n",
    "    print(f\"\\nСредний ROC-AUC: {average_roc_auc:.3f}\")\n",
    "\n",
    "    print(elm)\n",
    "\n",
    "    print('-------------------------------------------------')\n",
    "\n",
    "    if x[0] < average_roc_auc:\n",
    "        x[0] = average_roc_auc\n",
    "        x[1] = elm\n",
    "\n",
    "print(x)"
   ]
  }
 ],
 "metadata": {
  "kernelspec": {
   "display_name": ".venv",
   "language": "python",
   "name": "python3"
  },
  "language_info": {
   "codemirror_mode": {
    "name": "ipython",
    "version": 3
   },
   "file_extension": ".py",
   "mimetype": "text/x-python",
   "name": "python",
   "nbconvert_exporter": "python",
   "pygments_lexer": "ipython3",
   "version": "3.11.9"
  }
 },
 "nbformat": 4,
 "nbformat_minor": 5
}
