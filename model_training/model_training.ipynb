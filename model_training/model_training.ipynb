{
 "cells": [
  {
   "cell_type": "markdown",
   "id": "14a66cba",
   "metadata": {},
   "source": [
    "______________________________________________________________________________________________________________________________________________________________________________________\n",
    "\n",
    "Обучение модели"
   ]
  },
  {
   "cell_type": "code",
   "execution_count": null,
   "id": "909dbfa8",
   "metadata": {},
   "outputs": [],
   "source": [
    "import pandas as pd\n",
    "\n",
    "from sklearn.feature_extraction.text import TfidfVectorizer\n",
    "from sklearn.linear_model import LogisticRegression\n",
    "from sklearn.pipeline import Pipeline\n",
    "\n",
    "data = pd.read_csv('preparation_step_3.csv')\n",
    "\n",
    "percent = 20\n",
    "\n",
    "ind = data.shape[0] / 100 * (100 - percent)\n",
    "\n",
    "train = data[data.index < ind]\n",
    "test = data[data.index >= ind]\n",
    "\n",
    "t = list(data.columns)\n",
    "t.remove('comment')\n",
    "\n",
    "X_train = train[t]\n",
    "y_train = train['comment']\n",
    "\n",
    "X_test = test[t]\n",
    "y_test = test['comment']\n",
    "\n",
    "model = Pipeline([\n",
    "    ('tfidf', TfidfVectorizer()),\n",
    "    ('clf', LogisticRegression(max_iter=1000))\n",
    "])\n",
    "\n",
    "model.fit(X_train, y_train)\n",
    "\n",
    "print(\"Accuracy:\", model.score(X_test, y_test))"
   ]
  }
 ],
 "metadata": {
  "kernelspec": {
   "display_name": ".venv",
   "language": "python",
   "name": "python3"
  },
  "language_info": {
   "codemirror_mode": {
    "name": "ipython",
    "version": 3
   },
   "file_extension": ".py",
   "mimetype": "text/x-python",
   "name": "python",
   "nbconvert_exporter": "python",
   "pygments_lexer": "ipython3",
   "version": "3.11.9"
  }
 },
 "nbformat": 4,
 "nbformat_minor": 5
}
