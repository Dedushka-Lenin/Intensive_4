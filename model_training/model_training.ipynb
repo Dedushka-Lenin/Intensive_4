{
 "cells": [
  {
   "cell_type": "code",
   "execution_count": 8,
   "id": "25ab1fec",
   "metadata": {},
   "outputs": [],
   "source": [
    "import pandas as pd"
   ]
  },
  {
   "cell_type": "markdown",
   "id": "14a66cba",
   "metadata": {},
   "source": [
    "______________________________________________________________________________________________________________________________________________________________________________________\n",
    "\n",
    "Обучение модели"
   ]
  },
  {
   "cell_type": "code",
   "execution_count": 9,
   "id": "909dbfa8",
   "metadata": {},
   "outputs": [],
   "source": [
    "data = pd.read_csv('preparation_step_2.csv')\n",
    "\n",
    "percent = 20\n",
    "\n",
    "ind = data.shape[0] / 100 * (100 - percent)\n",
    "\n",
    "train = data[data.index < ind]\n",
    "test = data[data.index >= ind]\n",
    "\n",
    "t = list(data.columns)\n",
    "t.remove('comment')\n",
    "\n",
    "X_train = train[t]\n",
    "y_train = train['comment']\n",
    "\n",
    "X_test = test[t]\n",
    "y_test = test['comment']\n",
    "\n"
   ]
  }
 ],
 "metadata": {
  "kernelspec": {
   "display_name": ".venv",
   "language": "python",
   "name": "python3"
  },
  "language_info": {
   "codemirror_mode": {
    "name": "ipython",
    "version": 3
   },
   "file_extension": ".py",
   "mimetype": "text/x-python",
   "name": "python",
   "nbconvert_exporter": "python",
   "pygments_lexer": "ipython3",
   "version": "3.11.9"
  }
 },
 "nbformat": 4,
 "nbformat_minor": 5
}
